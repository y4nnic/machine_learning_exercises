{
 "cells": [
  {
   "cell_type": "markdown",
   "metadata": {},
   "source": [
    "\n",
    "\"Two sellers at Amazon have the same price. One has 90 positive and 10 negative reviews. The other one 2 positive and 0 negative. Who should you buy from?”"
   ]
  },
  {
   "cell_type": "markdown",
   "metadata": {},
   "source": [
    "### Beta-Binomial Models\n",
    "\n",
    "$$ p(Theta_1|D_1) = Beta(Theta_1|91,11) $$\n",
    "\n",
    "$$ p(Theta_2|D_2) = Beta(Theta_2|3,1) $$"
   ]
  },
  {
   "cell_type": "markdown",
   "metadata": {},
   "source": [
    "$$ p(Theta_1 > Theta_2 | D_1, D_2) $$\n",
    "\n",
    "$$= \\int_0^1 \\int_0^1 [Theta_1 > Theta_2] Beta(Theta_1|91,11)Beta(Theta_2|3,1)dTheta_1 dTheta_2 $$\n",
    "\n",
    "$$ = \\int_0^1 \\int_{Theta_2}^1 Beta(Theta_1|91,11)Beta(Theta_2|3,1)dTheta_1 dTheta_2 $$\n",
    "\n",
    "\n"
   ]
  },
  {
   "cell_type": "code",
   "execution_count": 1,
   "metadata": {
    "collapsed": true
   },
   "outputs": [],
   "source": [
    "import scipy as sp\n",
    "import scipy.integrate"
   ]
  },
  {
   "cell_type": "code",
   "execution_count": 2,
   "metadata": {
    "collapsed": true
   },
   "outputs": [],
   "source": [
    "# Beta(Theta| a,b)\n",
    "beta_pdf = lambda theta, a, b: 1/sp.special.beta(a,b) * theta**(a-1) * (1-theta)**(b-1) \n",
    "\n",
    "# Beta(Theta_1| 91,11) Beta(Theta_2| 3,1)\n",
    "f = lambda theta_1, theta_2: beta_pdf(theta_1, 91,11)*beta_pdf(theta_2, 3,1)\n"
   ]
  },
  {
   "cell_type": "code",
   "execution_count": 3,
   "metadata": {},
   "outputs": [
    {
     "name": "stdout",
     "output_type": "stream",
     "text": [
      "(0.7125928041119359, 1.8296502528108646e-08)\n"
     ]
    }
   ],
   "source": [
    "# numerical integration\n",
    "p_t1_t2 = sp.integrate.dblquad(f, 0, 1, lambda x: x, lambda x: 1)\n",
    "\n",
    "print(p_t1_t2)"
   ]
  }
 ],
 "metadata": {
  "kernelspec": {
   "display_name": "Python 3",
   "language": "python",
   "name": "python3"
  },
  "language_info": {
   "codemirror_mode": {
    "name": "ipython",
    "version": 3
   },
   "file_extension": ".py",
   "mimetype": "text/x-python",
   "name": "python",
   "nbconvert_exporter": "python",
   "pygments_lexer": "ipython3",
   "version": "3.6.2"
  }
 },
 "nbformat": 4,
 "nbformat_minor": 2
}
